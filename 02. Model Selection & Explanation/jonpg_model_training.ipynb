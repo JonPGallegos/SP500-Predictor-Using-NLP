{
 "cells": [
  {
   "cell_type": "code",
   "execution_count": null,
   "metadata": {},
   "outputs": [],
   "source": []
  },
  {
   "cell_type": "markdown",
   "metadata": {},
   "source": [
    "# Import Packages"
   ]
  },
  {
   "cell_type": "code",
   "execution_count": 1,
   "metadata": {},
   "outputs": [
    {
     "name": "stderr",
     "output_type": "stream",
     "text": [
      "c:\\Users\\Jon\\AppData\\Local\\Programs\\Python\\Python311\\Lib\\site-packages\\tqdm\\auto.py:21: TqdmWarning: IProgress not found. Please update jupyter and ipywidgets. See https://ipywidgets.readthedocs.io/en/stable/user_install.html\n",
      "  from .autonotebook import tqdm as notebook_tqdm\n"
     ]
    }
   ],
   "source": [
    "from transformers import AutoTokenizer\n",
    "import numpy as np\n",
    "import evaluate\n",
    "import pandas as pd\n",
    "from sklearn.model_selection import train_test_split\n",
    "from transformers import AutoModelForSequenceClassification, TrainingArguments, Trainer\n",
    "import torch\n",
    "from datasets import Dataset\n",
    "from typing import Optional"
   ]
  },
  {
   "cell_type": "markdown",
   "metadata": {},
   "source": [
    "# 1. Tokenize dataset and 2. Train Test Splitting"
   ]
  },
  {
   "cell_type": "code",
   "execution_count": 2,
   "metadata": {},
   "outputs": [],
   "source": [
    "tokenizer = AutoTokenizer.from_pretrained(\"mrm8488/distilroberta-finetuned-financial-news-sentiment-analysis\")\n",
    "def preprocess_function(examples):\n",
    "    return tokenizer(examples[\"text\"], padding='max_length', truncation=True)"
   ]
  },
  {
   "cell_type": "code",
   "execution_count": 4,
   "metadata": {},
   "outputs": [
    {
     "name": "stdout",
     "output_type": "stream",
     "text": [
      "45463\n"
     ]
    },
    {
     "name": "stderr",
     "output_type": "stream",
     "text": [
      "Map: 100%|██████████| 36370/36370 [00:04<00:00, 8793.76 examples/s]\n",
      "Map: 100%|██████████| 9093/9093 [00:00<00:00, 9133.18 examples/s]\n"
     ]
    }
   ],
   "source": [
    "TRAINING_DATA = pd.read_csv('../data/jonpg_prepped_data.csv')[['headlines','label']]\n",
    "print(len(TRAINING_DATA))\n",
    "text = TRAINING_DATA['headlines'].tolist()\n",
    "\n",
    "labels = TRAINING_DATA['label'].tolist()\n",
    "\n",
    "\n",
    "# Split another testing set in case I want to do my own testing\n",
    "# text_train, text_test, label_train, label_test = train_test_split(\n",
    "#     train_text, train_label, test_size=0.10, random_state=42)\n",
    "training_text, testing_text, training_labels, testing_labels = train_test_split(\n",
    "    text, labels, test_size=0.20, random_state=42)\n",
    "\n",
    "train_dataset = Dataset.from_dict({'text':training_text, 'label':training_labels})\n",
    "eval_dataset = Dataset.from_dict({'text':testing_text, 'label':testing_labels})\n",
    "\n",
    "tokenized_train = train_dataset.map(preprocess_function, batched=True)\n",
    "tokenized_val = eval_dataset.map(preprocess_function, batched=True)"
   ]
  },
  {
   "cell_type": "markdown",
   "metadata": {},
   "source": [
    "# 3. Fine-tune Data to the Model"
   ]
  },
  {
   "cell_type": "code",
   "execution_count": 5,
   "metadata": {},
   "outputs": [],
   "source": [
    "model = AutoModelForSequenceClassification.from_pretrained(\"mrm8488/distilroberta-finetuned-financial-news-sentiment-analysis\", num_labels=3)\n",
    "model.config.id2label = {0:'decrease', 1:'sustain',2:'increase'}"
   ]
  },
  {
   "cell_type": "code",
   "execution_count": 7,
   "metadata": {},
   "outputs": [],
   "source": [
    "training_args = TrainingArguments(\n",
    "    output_dir='C:/Users/Jon/Documents/Career/Projects/SDSPNLP/results',\n",
    "    learning_rate=3e-5,\n",
    "    per_device_train_batch_size=16,\n",
    "    per_device_eval_batch_size=16,\n",
    "    num_train_epochs=1,\n",
    "    weight_decay=0.01,\n",
    ")\n",
    "trainer = Trainer(\n",
    "    model=model,\n",
    "    args=training_args,\n",
    "    train_dataset=tokenized_train,\n",
    "    eval_dataset=tokenized_val\n",
    ")"
   ]
  },
  {
   "cell_type": "code",
   "execution_count": 8,
   "metadata": {},
   "outputs": [
    {
     "name": "stderr",
     "output_type": "stream",
     "text": [
      " 22%|██▏       | 500/2274 [3:16:25<11:35:23, 23.52s/it]"
     ]
    },
    {
     "name": "stdout",
     "output_type": "stream",
     "text": [
      "{'loss': 1.1502, 'grad_norm': 2.401078462600708, 'learning_rate': 2.3403693931398417e-05, 'epoch': 0.22}\n"
     ]
    },
    {
     "name": "stderr",
     "output_type": "stream",
     "text": [
      " 44%|████▍     | 1000/2274 [6:18:51<7:38:13, 21.58s/it]"
     ]
    },
    {
     "name": "stdout",
     "output_type": "stream",
     "text": [
      "{'loss': 1.0999, 'grad_norm': 2.466158390045166, 'learning_rate': 1.6807387862796836e-05, 'epoch': 0.44}\n"
     ]
    },
    {
     "name": "stderr",
     "output_type": "stream",
     "text": [
      " 66%|██████▌   | 1500/2274 [9:17:11<4:43:32, 21.98s/it]"
     ]
    },
    {
     "name": "stdout",
     "output_type": "stream",
     "text": [
      "{'loss': 1.0914, 'grad_norm': 1.3107244968414307, 'learning_rate': 1.0211081794195251e-05, 'epoch': 0.66}\n"
     ]
    },
    {
     "name": "stderr",
     "output_type": "stream",
     "text": [
      " 88%|████████▊ | 2000/2274 [12:16:25<1:37:08, 21.27s/it]"
     ]
    },
    {
     "name": "stdout",
     "output_type": "stream",
     "text": [
      "{'loss': 1.0925, 'grad_norm': 2.427618980407715, 'learning_rate': 3.6147757255936676e-06, 'epoch': 0.88}\n"
     ]
    },
    {
     "name": "stderr",
     "output_type": "stream",
     "text": [
      "100%|██████████| 2274/2274 [13:55:14<00:00, 22.04s/it]  "
     ]
    },
    {
     "name": "stdout",
     "output_type": "stream",
     "text": [
      "{'train_runtime': 50114.8865, 'train_samples_per_second': 0.726, 'train_steps_per_second': 0.045, 'train_loss': 1.10621349163609, 'epoch': 1.0}\n"
     ]
    },
    {
     "name": "stderr",
     "output_type": "stream",
     "text": [
      "\n"
     ]
    }
   ],
   "source": [
    "trainer.train()\n",
    "trainer.save_model('C:/Users/Jon/Documents/Career/Projects/SDSPNLP/results/jonpg_model')"
   ]
  },
  {
   "cell_type": "markdown",
   "metadata": {},
   "source": [
    "# 4. Create an Inference Function"
   ]
  },
  {
   "cell_type": "code",
   "execution_count": 11,
   "metadata": {},
   "outputs": [],
   "source": [
    "import re\n",
    "\n",
    "def model_call(\n",
    "        inputs: list,\n",
    "        output_max_prob: bool = False):\n",
    "    \"\"\"model_call takes in \n",
    "    parameter:inputs -> string or list of strings \n",
    "    and outputs the jonpg_model \n",
    "    results: tensor(decrease, sustain, increase)\n",
    "    \n",
    "    output_max_prob will return the probabilities and their respective classes.\"\"\"\n",
    "\n",
    "    # First we need to clean the data \n",
    "    def replace_currency_symbols(text):\n",
    "    # Dictionary mapping currency symbols to their acronyms\n",
    "        currency_dict = {\n",
    "            '£': 'GBP ',   # British Pound\n",
    "            '€': 'EUR ',   # Euro\n",
    "            '$': 'USD ',   # US Dollar\n",
    "            '¥': 'JPY ',   # Japanese Yen\n",
    "            '₹': 'INR ',   # Indian Rupee\n",
    "            '₽': 'RUB ',   # Russian Ruble\n",
    "            '₩': 'KRW ',   # South Korean Won\n",
    "            '฿': 'THB ',   # Thai Baht\n",
    "            '₺': 'TRY ',   # Turkish Lira\n",
    "            '₪': 'ILS '    # Israeli Shekel\n",
    "        }\n",
    "\n",
    "        # Regular expression pattern to match any of the currency symbols\n",
    "        pattern = re.compile('|'.join(re.escape(symbol) for symbol in currency_dict.keys()))\n",
    "\n",
    "        # Function to replace a matched symbol with its acronym\n",
    "        def replace_symbol(match):\n",
    "            return currency_dict[match.group(0)]\n",
    "\n",
    "        # Replace all currency symbols in the text\n",
    "        return pattern.sub(replace_symbol, text)\n",
    "    def clean_text(text):\n",
    "        # Add a space before and after punctuation marks\n",
    "        text = re.sub(r'([.,!?;:])', r' \\1 ', replace_currency_symbols(text))\n",
    "        \n",
    "        # Remove newlines and tabs\n",
    "        text = text.replace('\\n', ' ').replace('\\t', ' ')\n",
    "        \n",
    "        # Remove any extra spaces that might have been introduced\n",
    "        text = re.sub(r'\\s+', ' ', text).strip()\n",
    "        \n",
    "        return text\n",
    "    # Run the str or list through the clean text function\n",
    "    if type(inputs) == str:\n",
    "        inputs = clean_text(inputs)\n",
    "    elif type(inputs) == list:\n",
    "        new_inputs = []\n",
    "        for i in inputs:\n",
    "            new_inputs.append(clean_text(i))\n",
    "        inputs = new_inputs\n",
    "    \n",
    "    # Now call in the model from file with tokenizer and tokenize cleaned inputs\n",
    "    model = AutoModelForSequenceClassification.from_pretrained('C:/Users/Jon/Documents/Career/Projects/SDSPNLP/results/jonpg_model')\n",
    "    tokenizer = AutoTokenizer.from_pretrained(\"mrm8488/distilroberta-finetuned-financial-news-sentiment-analysis\")\n",
    "    tokenized_inputs = tokenizer(inputs, return_tensors=\"pt\", padding=True, truncation=True)\n",
    "\n",
    "    # Grab logits or probabilities and return them\n",
    "    with torch.no_grad():\n",
    "        logits = model(**tokenized_inputs).logits\n",
    "        if output_max_prob:\n",
    "            output = torch.sigmoid(logits).squeeze(dim=0)\n",
    "        else:\n",
    "            output = logits\n",
    "    return output\n",
    "        "
   ]
  },
  {
   "cell_type": "markdown",
   "metadata": {},
   "source": [
    "### Examples"
   ]
  },
  {
   "cell_type": "code",
   "execution_count": 19,
   "metadata": {},
   "outputs": [
    {
     "data": {
      "text/plain": [
       "tensor([[0.5031, 0.4859, 0.5207],\n",
       "        [0.5062, 0.5173, 0.4874]])"
      ]
     },
     "execution_count": 19,
     "metadata": {},
     "output_type": "execute_result"
    }
   ],
   "source": [
    "model_call(inputs=['Stocks are going up $$$$$$$$$$$$$$$!!!!', 'something weird is up with Cramer.'], output_max_prob=True)"
   ]
  },
  {
   "cell_type": "code",
   "execution_count": 20,
   "metadata": {},
   "outputs": [
    {
     "data": {
      "text/plain": [
       "tensor([0.5047, 0.5148, 0.4912])"
      ]
     },
     "execution_count": 20,
     "metadata": {},
     "output_type": "execute_result"
    }
   ],
   "source": [
    "model_call(inputs='something is going on in the stock market .', output_max_prob=True)"
   ]
  },
  {
   "cell_type": "code",
   "execution_count": null,
   "metadata": {},
   "outputs": [],
   "source": []
  }
 ],
 "metadata": {
  "kernelspec": {
   "display_name": "Python 3",
   "language": "python",
   "name": "python3"
  },
  "language_info": {
   "codemirror_mode": {
    "name": "ipython",
    "version": 3
   },
   "file_extension": ".py",
   "mimetype": "text/x-python",
   "name": "python",
   "nbconvert_exporter": "python",
   "pygments_lexer": "ipython3",
   "version": "3.11.9"
  }
 },
 "nbformat": 4,
 "nbformat_minor": 2
}
