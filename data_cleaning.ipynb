{
 "cells": [
  {
   "cell_type": "code",
   "execution_count": null,
   "metadata": {},
   "outputs": [],
   "source": [
    "import re\n",
    "\n",
    "def replace_currency_symbols(text):\n",
    "    # Dictionary mapping currency symbols to their acronyms\n",
    "    currency_dict = {\n",
    "        '£': 'GBP ',   # British Pound\n",
    "        '€': 'EUR ',   # Euro\n",
    "        '$': 'USD ',   # US Dollar\n",
    "        '¥': 'JPY ',   # Japanese Yen\n",
    "        '₹': 'INR ',   # Indian Rupee\n",
    "        '₽': 'RUB ',   # Russian Ruble\n",
    "        '₩': 'KRW ',   # South Korean Won\n",
    "        '฿': 'THB ',   # Thai Baht\n",
    "        '₺': 'TRY ',   # Turkish Lira\n",
    "        '₪': 'ILS '    # Israeli Shekel\n",
    "    }\n",
    "\n",
    "    # Regular expression pattern to match any of the currency symbols\n",
    "    pattern = re.compile('|'.join(re.escape(symbol) for symbol in currency_dict.keys()))\n",
    "\n",
    "    # Function to replace a matched symbol with its acronym\n",
    "    def replace_symbol(match):\n",
    "        return currency_dict[match.group(0)]\n",
    "\n",
    "    # Replace all currency symbols in the text\n",
    "    return pattern.sub(replace_symbol, text)\n",
    "def clean_text(text):\n",
    "    # Add a space before and after punctuation marks\n",
    "    text = re.sub(r'([.,!?;:])', r' \\1 ', replace_currency_symbols(text))\n",
    "    \n",
    "    # Remove newlines and tabs\n",
    "    text = text.replace('\\n', ' ').replace('\\t', ' ')\n",
    "    \n",
    "    # Remove any extra spaces that might have been introduced\n",
    "    text = re.sub(r'\\s+', ' ', text).strip()\n",
    "    \n",
    "    return text\n",
    "# Example usage\n",
    "text = \"The price is £50, €30, and $20.\"\n",
    "result = replace_currency_symbols(text)\n",
    "print(result)  # Output: \"The price is GBP50, EUR30, and USD20.\"\n"
   ]
  },
  {
   "cell_type": "code",
   "execution_count": null,
   "metadata": {},
   "outputs": [],
   "source": [
    "import pandas as pd\n",
    "\n",
    "cnbc = pd.read_csv('data/raw_data/cnbc_headlines.csv')\n",
    "guardian = pd.read_csv('data/raw_data/guardian_headlines.csv')\n",
    "reuters = pd.read_csv('data/raw_data/reuters_headlines.csv') \n"
   ]
  },
  {
   "cell_type": "code",
   "execution_count": null,
   "metadata": {},
   "outputs": [],
   "source": [
    "print(len(cnbc) + len(guardian) + len(reuters))"
   ]
  },
  {
   "cell_type": "code",
   "execution_count": null,
   "metadata": {},
   "outputs": [],
   "source": [
    "cnbc['Time'] = pd.to_datetime(cnbc['Time'].replace('ET ',''), errors = 'coerce').dt.strftime('%Y-%m-%d')\n",
    "guardian['Time'] = pd.to_datetime(guardian['Time'], errors = 'coerce').dt.strftime('%Y-%m-%d')\n",
    "reuters['Time'] = pd.to_datetime(reuters['Time'], errors = 'coerce').dt.strftime('%Y-%m-%d')"
   ]
  },
  {
   "cell_type": "code",
   "execution_count": null,
   "metadata": {},
   "outputs": [],
   "source": [
    "cnbc = cnbc.dropna()\n",
    "guardian = guardian.dropna()\n",
    "reuters = reuters.dropna()"
   ]
  },
  {
   "cell_type": "code",
   "execution_count": null,
   "metadata": {},
   "outputs": [],
   "source": [
    "print(len(cnbc) + len(guardian) + len(reuters))"
   ]
  },
  {
   "cell_type": "code",
   "execution_count": null,
   "metadata": {},
   "outputs": [],
   "source": [
    "import numpy as np\n",
    "all_dates = np.unique(np.concatenate((cnbc['Time'].unique(), guardian['Time'].unique(), reuters['Time'].unique())))"
   ]
  },
  {
   "cell_type": "code",
   "execution_count": null,
   "metadata": {},
   "outputs": [],
   "source": [
    "combined_news = pd.concat([cnbc[['Time','Headlines']], guardian[['Time','Headlines']]], axis=0)\n",
    "combined_news = pd.concat([combined_news[['Time','Headlines']], reuters[['Time','Headlines']]], axis=0)"
   ]
  },
  {
   "cell_type": "code",
   "execution_count": null,
   "metadata": {},
   "outputs": [],
   "source": [
    "combined_news.sort_values('Time')\n",
    "combined_news = combined_news.rename(columns={'Time':'date','Headlines':'headlines'})"
   ]
  },
  {
   "cell_type": "code",
   "execution_count": null,
   "metadata": {},
   "outputs": [],
   "source": [
    "for i in range(len(combined_news)):\n",
    "    combined_news['headlines'].iloc[i] = clean_text(combined_news['headlines'].iloc[i])"
   ]
  },
  {
   "cell_type": "code",
   "execution_count": null,
   "metadata": {},
   "outputs": [],
   "source": [
    "combined_news.to_csv('data/raw_data/combined_headlines.csv', index=False)"
   ]
  },
  {
   "cell_type": "code",
   "execution_count": null,
   "metadata": {},
   "outputs": [],
   "source": [
    "import yfinance as yf\n",
    "from datetime import date, timedelta\n",
    "\n",
    "def get_stock_data(ticker = 'AAPL', start_date = (date.today() - timedelta(days=365)).strftime('%Y-%m-%d'), end_date = date.today().strftime('%Y-%m-%d')):\n",
    "    # Load the stock data\n",
    "    data = yf.download(ticker, start=start_date, end=end_date)\n",
    "    return data"
   ]
  },
  {
   "cell_type": "code",
   "execution_count": null,
   "metadata": {},
   "outputs": [],
   "source": [
    "prediction_period = 1\n",
    "start_date = pd.to_datetime(combined_news['date'].iloc[-1]).strftime('%Y-%m-%d')\n",
    "end_date = (pd.to_datetime(combined_news['date'].iloc[0]) + timedelta(days=14)).strftime('%Y-%m-%d')\n",
    "sp500 = get_stock_data('SPY',start_date=start_date, end_date=end_date)"
   ]
  },
  {
   "cell_type": "code",
   "execution_count": null,
   "metadata": {},
   "outputs": [],
   "source": [
    "sp500.to_csv('data/raw_data/spy_data.csv')"
   ]
  },
  {
   "cell_type": "code",
   "execution_count": null,
   "metadata": {},
   "outputs": [],
   "source": [
    "spy = pd.read_csv('data/raw_data/spy_data.csv')[['Date','Close']]"
   ]
  },
  {
   "cell_type": "code",
   "execution_count": null,
   "metadata": {},
   "outputs": [],
   "source": [
    "spy.columns"
   ]
  },
  {
   "cell_type": "code",
   "execution_count": null,
   "metadata": {},
   "outputs": [],
   "source": [
    "import numpy as np\n",
    "combined_news['spy_close'] = np.nan\n",
    "combined_news['spy_future_close'] = np.nan"
   ]
  },
  {
   "cell_type": "code",
   "execution_count": null,
   "metadata": {},
   "outputs": [],
   "source": [
    "for i in range(prediction_period,len(spy)):\n",
    "    combined_news['spy_close'][combined_news['date']==spy['Date'].iloc[i-prediction_period]] = spy['Close'].iloc[i-prediction_period]\n",
    "    combined_news['spy_future_close'][combined_news['date']==spy['Date'].iloc[i-prediction_period]] = spy['Close'].iloc[i]"
   ]
  },
  {
   "cell_type": "code",
   "execution_count": null,
   "metadata": {},
   "outputs": [],
   "source": [
    "combined_news['price_movement'] = combined_news['spy_future_close'] - combined_news['spy_close']"
   ]
  },
  {
   "cell_type": "code",
   "execution_count": null,
   "metadata": {},
   "outputs": [],
   "source": [
    "combined_news['move_percent'] = 100 * combined_news['price_movement'] / combined_news['spy_close']"
   ]
  },
  {
   "cell_type": "code",
   "execution_count": null,
   "metadata": {},
   "outputs": [],
   "source": [
    "for i in range(len(combined_news)-1):\n",
    "    if pd.isna(combined_news['spy_close'].iloc[i]):\n",
    "        combined_news['headlines'].iloc[i+1] = combined_news['headlines'].iloc[i] + combined_news['headlines'].iloc[i+1]"
   ]
  },
  {
   "cell_type": "code",
   "execution_count": null,
   "metadata": {},
   "outputs": [],
   "source": [
    "combined_news = combined_news.dropna()"
   ]
  },
  {
   "cell_type": "code",
   "execution_count": null,
   "metadata": {},
   "outputs": [],
   "source": [
    "combined_news.to_csv('data/1day_news_with_spy.csv', index=False)"
   ]
  },
  {
   "cell_type": "code",
   "execution_count": null,
   "metadata": {},
   "outputs": [],
   "source": []
  }
 ],
 "metadata": {
  "kernelspec": {
   "display_name": "Python 3",
   "language": "python",
   "name": "python3"
  },
  "language_info": {
   "codemirror_mode": {
    "name": "ipython",
    "version": 3
   },
   "file_extension": ".py",
   "mimetype": "text/x-python",
   "name": "python",
   "nbconvert_exporter": "python",
   "pygments_lexer": "ipython3",
   "version": "3.11.9"
  }
 },
 "nbformat": 4,
 "nbformat_minor": 2
}
