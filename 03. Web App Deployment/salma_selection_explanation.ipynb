{
 "cells": [
  {
   "cell_type": "raw",
   "id": "d7055511-ac77-4d90-bd2f-caeb3db7b2fc",
   "metadata": {},
   "source": [
    "python -m venv venv\n",
    "venv\\Scripts\\activate"
   ]
  },
  {
   "cell_type": "code",
   "execution_count": 17,
   "id": "98540f95-1793-4fa3-82d5-18c192a334ae",
   "metadata": {
    "tags": []
   },
   "outputs": [
    {
     "name": "stdout",
     "output_type": "stream",
     "text": [
      "Requirement already satisfied: pandas in c:\\anaconda\\lib\\site-packages (from -r ..\\salma_deployment\\requirements.txt (line 1)) (1.5.3)\n",
      "Requirement already satisfied: scikit-learn in c:\\anaconda\\lib\\site-packages (from -r ..\\salma_deployment\\requirements.txt (line 2)) (1.4.2)\n",
      "Requirement already satisfied: xgboost in c:\\anaconda\\lib\\site-packages (from -r ..\\salma_deployment\\requirements.txt (line 3)) (2.1.1)\n",
      "Requirement already satisfied: shap in c:\\anaconda\\lib\\site-packages (from -r ..\\salma_deployment\\requirements.txt (line 4)) (0.46.0)\n",
      "Requirement already satisfied: matplotlib in c:\\anaconda\\lib\\site-packages (from -r ..\\salma_deployment\\requirements.txt (line 5)) (3.7.1)\n",
      "Requirement already satisfied: streamlit in c:\\anaconda\\lib\\site-packages (from -r ..\\salma_deployment\\requirements.txt (line 6)) (1.37.1)\n",
      "Requirement already satisfied: requests in c:\\users\\salma.wahwah\\appdata\\roaming\\python\\python311\\site-packages (from -r ..\\salma_deployment\\requirements.txt (line 7)) (2.32.3)\n",
      "Requirement already satisfied: beautifulsoup4 in c:\\anaconda\\lib\\site-packages (from -r ..\\salma_deployment\\requirements.txt (line 8)) (4.12.2)\n",
      "Requirement already satisfied: yfinance in c:\\anaconda\\lib\\site-packages (from -r ..\\salma_deployment\\requirements.txt (line 9)) (0.2.41)\n",
      "Requirement already satisfied: nltk in c:\\anaconda\\lib\\site-packages (from -r ..\\salma_deployment\\requirements.txt (line 10)) (3.8.1)\n",
      "Requirement already satisfied: python-dateutil>=2.8.1 in c:\\anaconda\\lib\\site-packages (from pandas->-r ..\\salma_deployment\\requirements.txt (line 1)) (2.8.2)\n",
      "Requirement already satisfied: pytz>=2020.1 in c:\\anaconda\\lib\\site-packages (from pandas->-r ..\\salma_deployment\\requirements.txt (line 1)) (2022.7)\n",
      "Requirement already satisfied: numpy>=1.21.0 in c:\\anaconda\\lib\\site-packages (from pandas->-r ..\\salma_deployment\\requirements.txt (line 1)) (1.24.3)\n",
      "Requirement already satisfied: scipy>=1.6.0 in c:\\anaconda\\lib\\site-packages (from scikit-learn->-r ..\\salma_deployment\\requirements.txt (line 2)) (1.10.1)\n",
      "Requirement already satisfied: joblib>=1.2.0 in c:\\anaconda\\lib\\site-packages (from scikit-learn->-r ..\\salma_deployment\\requirements.txt (line 2)) (1.2.0)\n",
      "Requirement already satisfied: threadpoolctl>=2.0.0 in c:\\anaconda\\lib\\site-packages (from scikit-learn->-r ..\\salma_deployment\\requirements.txt (line 2)) (3.5.0)\n",
      "Requirement already satisfied: tqdm>=4.27.0 in c:\\users\\salma.wahwah\\appdata\\roaming\\python\\python311\\site-packages (from shap->-r ..\\salma_deployment\\requirements.txt (line 4)) (4.66.4)\n",
      "Requirement already satisfied: packaging>20.9 in c:\\anaconda\\lib\\site-packages (from shap->-r ..\\salma_deployment\\requirements.txt (line 4)) (23.0)\n",
      "Requirement already satisfied: slicer==0.0.8 in c:\\anaconda\\lib\\site-packages (from shap->-r ..\\salma_deployment\\requirements.txt (line 4)) (0.0.8)\n",
      "Requirement already satisfied: numba in c:\\anaconda\\lib\\site-packages (from shap->-r ..\\salma_deployment\\requirements.txt (line 4)) (0.57.0)\n",
      "Requirement already satisfied: cloudpickle in c:\\anaconda\\lib\\site-packages (from shap->-r ..\\salma_deployment\\requirements.txt (line 4)) (2.2.1)\n",
      "Requirement already satisfied: contourpy>=1.0.1 in c:\\anaconda\\lib\\site-packages (from matplotlib->-r ..\\salma_deployment\\requirements.txt (line 5)) (1.0.5)\n",
      "Requirement already satisfied: cycler>=0.10 in c:\\anaconda\\lib\\site-packages (from matplotlib->-r ..\\salma_deployment\\requirements.txt (line 5)) (0.11.0)\n",
      "Requirement already satisfied: fonttools>=4.22.0 in c:\\anaconda\\lib\\site-packages (from matplotlib->-r ..\\salma_deployment\\requirements.txt (line 5)) (4.25.0)\n",
      "Requirement already satisfied: kiwisolver>=1.0.1 in c:\\anaconda\\lib\\site-packages (from matplotlib->-r ..\\salma_deployment\\requirements.txt (line 5)) (1.4.4)\n",
      "Requirement already satisfied: pillow>=6.2.0 in c:\\anaconda\\lib\\site-packages (from matplotlib->-r ..\\salma_deployment\\requirements.txt (line 5)) (10.3.0)\n",
      "Requirement already satisfied: pyparsing>=2.3.1 in c:\\anaconda\\lib\\site-packages (from matplotlib->-r ..\\salma_deployment\\requirements.txt (line 5)) (3.0.9)\n",
      "Requirement already satisfied: altair<6,>=4.0 in c:\\anaconda\\lib\\site-packages (from streamlit->-r ..\\salma_deployment\\requirements.txt (line 6)) (5.4.0)\n",
      "Requirement already satisfied: blinker<2,>=1.0.0 in c:\\anaconda\\lib\\site-packages (from streamlit->-r ..\\salma_deployment\\requirements.txt (line 6)) (1.8.2)\n",
      "Requirement already satisfied: cachetools<6,>=4.0 in c:\\anaconda\\lib\\site-packages (from streamlit->-r ..\\salma_deployment\\requirements.txt (line 6)) (5.4.0)\n",
      "Requirement already satisfied: click<9,>=7.0 in c:\\anaconda\\lib\\site-packages (from streamlit->-r ..\\salma_deployment\\requirements.txt (line 6)) (8.0.4)\n",
      "Requirement already satisfied: protobuf<6,>=3.20 in c:\\anaconda\\lib\\site-packages (from streamlit->-r ..\\salma_deployment\\requirements.txt (line 6)) (5.27.3)\n",
      "Requirement already satisfied: pyarrow>=7.0 in c:\\users\\salma.wahwah\\appdata\\roaming\\python\\python311\\site-packages (from streamlit->-r ..\\salma_deployment\\requirements.txt (line 6)) (16.1.0)\n",
      "Requirement already satisfied: rich<14,>=10.14.0 in c:\\anaconda\\lib\\site-packages (from streamlit->-r ..\\salma_deployment\\requirements.txt (line 6)) (13.7.1)\n",
      "Requirement already satisfied: tenacity<9,>=8.1.0 in c:\\anaconda\\lib\\site-packages (from streamlit->-r ..\\salma_deployment\\requirements.txt (line 6)) (8.2.2)\n",
      "Requirement already satisfied: toml<2,>=0.10.1 in c:\\anaconda\\lib\\site-packages (from streamlit->-r ..\\salma_deployment\\requirements.txt (line 6)) (0.10.2)\n",
      "Requirement already satisfied: typing-extensions<5,>=4.3.0 in c:\\users\\salma.wahwah\\appdata\\roaming\\python\\python311\\site-packages (from streamlit->-r ..\\salma_deployment\\requirements.txt (line 6)) (4.12.2)\n",
      "Requirement already satisfied: gitpython!=3.1.19,<4,>=3.0.7 in c:\\anaconda\\lib\\site-packages (from streamlit->-r ..\\salma_deployment\\requirements.txt (line 6)) (3.1.43)\n",
      "Requirement already satisfied: pydeck<1,>=0.8.0b4 in c:\\anaconda\\lib\\site-packages (from streamlit->-r ..\\salma_deployment\\requirements.txt (line 6)) (0.9.1)\n",
      "Requirement already satisfied: tornado<7,>=6.0.3 in c:\\anaconda\\lib\\site-packages (from streamlit->-r ..\\salma_deployment\\requirements.txt (line 6)) (6.3.2)\n",
      "Requirement already satisfied: watchdog<5,>=2.1.5 in c:\\anaconda\\lib\\site-packages (from streamlit->-r ..\\salma_deployment\\requirements.txt (line 6)) (2.1.6)\n",
      "Requirement already satisfied: charset-normalizer<4,>=2 in c:\\anaconda\\lib\\site-packages (from requests->-r ..\\salma_deployment\\requirements.txt (line 7)) (2.0.4)\n",
      "Requirement already satisfied: idna<4,>=2.5 in c:\\anaconda\\lib\\site-packages (from requests->-r ..\\salma_deployment\\requirements.txt (line 7)) (3.4)\n",
      "Requirement already satisfied: urllib3<3,>=1.21.1 in c:\\anaconda\\lib\\site-packages (from requests->-r ..\\salma_deployment\\requirements.txt (line 7)) (1.26.16)\n",
      "Requirement already satisfied: certifi>=2017.4.17 in c:\\anaconda\\lib\\site-packages (from requests->-r ..\\salma_deployment\\requirements.txt (line 7)) (2024.7.4)\n",
      "Requirement already satisfied: soupsieve>1.2 in c:\\anaconda\\lib\\site-packages (from beautifulsoup4->-r ..\\salma_deployment\\requirements.txt (line 8)) (2.4)\n",
      "Requirement already satisfied: multitasking>=0.0.7 in c:\\anaconda\\lib\\site-packages (from yfinance->-r ..\\salma_deployment\\requirements.txt (line 9)) (0.0.11)\n",
      "Requirement already satisfied: lxml>=4.9.1 in c:\\anaconda\\lib\\site-packages (from yfinance->-r ..\\salma_deployment\\requirements.txt (line 9)) (4.9.2)\n",
      "Requirement already satisfied: platformdirs>=2.0.0 in c:\\anaconda\\lib\\site-packages (from yfinance->-r ..\\salma_deployment\\requirements.txt (line 9)) (2.5.2)\n",
      "Requirement already satisfied: frozendict>=2.3.4 in c:\\anaconda\\lib\\site-packages (from yfinance->-r ..\\salma_deployment\\requirements.txt (line 9)) (2.4.4)\n",
      "Requirement already satisfied: peewee>=3.16.2 in c:\\anaconda\\lib\\site-packages (from yfinance->-r ..\\salma_deployment\\requirements.txt (line 9)) (3.17.6)\n",
      "Requirement already satisfied: html5lib>=1.1 in c:\\anaconda\\lib\\site-packages (from yfinance->-r ..\\salma_deployment\\requirements.txt (line 9)) (1.1)\n",
      "Requirement already satisfied: regex>=2021.8.3 in c:\\anaconda\\lib\\site-packages (from nltk->-r ..\\salma_deployment\\requirements.txt (line 10)) (2022.7.9)\n",
      "Requirement already satisfied: jinja2 in c:\\anaconda\\lib\\site-packages (from altair<6,>=4.0->streamlit->-r ..\\salma_deployment\\requirements.txt (line 6)) (3.1.2)\n",
      "Requirement already satisfied: jsonschema>=3.0 in c:\\anaconda\\lib\\site-packages (from altair<6,>=4.0->streamlit->-r ..\\salma_deployment\\requirements.txt (line 6)) (4.17.3)\n",
      "Requirement already satisfied: narwhals>=1.1.0 in c:\\anaconda\\lib\\site-packages (from altair<6,>=4.0->streamlit->-r ..\\salma_deployment\\requirements.txt (line 6)) (1.4.2)\n",
      "Requirement already satisfied: colorama in c:\\anaconda\\lib\\site-packages (from click<9,>=7.0->streamlit->-r ..\\salma_deployment\\requirements.txt (line 6)) (0.4.6)\n",
      "Requirement already satisfied: gitdb<5,>=4.0.1 in c:\\anaconda\\lib\\site-packages (from gitpython!=3.1.19,<4,>=3.0.7->streamlit->-r ..\\salma_deployment\\requirements.txt (line 6)) (4.0.11)\n",
      "Requirement already satisfied: six>=1.9 in c:\\anaconda\\lib\\site-packages (from html5lib>=1.1->yfinance->-r ..\\salma_deployment\\requirements.txt (line 9)) (1.16.0)\n",
      "Requirement already satisfied: webencodings in c:\\anaconda\\lib\\site-packages (from html5lib>=1.1->yfinance->-r ..\\salma_deployment\\requirements.txt (line 9)) (0.5.1)\n",
      "Requirement already satisfied: markdown-it-py>=2.2.0 in c:\\anaconda\\lib\\site-packages (from rich<14,>=10.14.0->streamlit->-r ..\\salma_deployment\\requirements.txt (line 6)) (2.2.0)\n",
      "Requirement already satisfied: pygments<3.0.0,>=2.13.0 in c:\\anaconda\\lib\\site-packages (from rich<14,>=10.14.0->streamlit->-r ..\\salma_deployment\\requirements.txt (line 6)) (2.15.1)\n",
      "Requirement already satisfied: llvmlite<0.41,>=0.40.0dev0 in c:\\anaconda\\lib\\site-packages (from numba->shap->-r ..\\salma_deployment\\requirements.txt (line 4)) (0.40.0)\n",
      "Requirement already satisfied: smmap<6,>=3.0.1 in c:\\anaconda\\lib\\site-packages (from gitdb<5,>=4.0.1->gitpython!=3.1.19,<4,>=3.0.7->streamlit->-r ..\\salma_deployment\\requirements.txt (line 6)) (5.0.1)\n",
      "Requirement already satisfied: MarkupSafe>=2.0 in c:\\anaconda\\lib\\site-packages (from jinja2->altair<6,>=4.0->streamlit->-r ..\\salma_deployment\\requirements.txt (line 6)) (2.1.1)\n",
      "Requirement already satisfied: attrs>=17.4.0 in c:\\anaconda\\lib\\site-packages (from jsonschema>=3.0->altair<6,>=4.0->streamlit->-r ..\\salma_deployment\\requirements.txt (line 6)) (22.1.0)\n",
      "Requirement already satisfied: pyrsistent!=0.17.0,!=0.17.1,!=0.17.2,>=0.14.0 in c:\\anaconda\\lib\\site-packages (from jsonschema>=3.0->altair<6,>=4.0->streamlit->-r ..\\salma_deployment\\requirements.txt (line 6)) (0.18.0)\n",
      "Requirement already satisfied: mdurl~=0.1 in c:\\anaconda\\lib\\site-packages (from markdown-it-py>=2.2.0->rich<14,>=10.14.0->streamlit->-r ..\\salma_deployment\\requirements.txt (line 6)) (0.1.0)\n"
     ]
    }
   ],
   "source": [
    "!pip install -r ..\\salma_deployment\\requirements.txt"
   ]
  },
  {
   "cell_type": "code",
   "execution_count": 19,
   "id": "4be28204-002b-4481-8f97-adf66f8a9b20",
   "metadata": {
    "tags": []
   },
   "outputs": [],
   "source": [
    "import streamlit as st\n",
    "import pickle\n",
    "import numpy as np\n",
    "import pandas as pd\n",
    "import requests\n",
    "from bs4 import BeautifulSoup\n",
    "import datetime\n"
   ]
  },
  {
   "cell_type": "code",
   "execution_count": 59,
   "id": "01f9d0d4-2842-4827-835a-b16b39276eea",
   "metadata": {
    "tags": []
   },
   "outputs": [],
   "source": [
    "\n",
    "# Load the models and transformers\n",
    "with open('salma_log_reg.pkl', 'rb') as file:\n",
    "    log_reg = pickle.load(file)\n",
    "\n",
    "with open('salma_xgb_model.pkl', 'rb') as file:\n",
    "    xgb_model = pickle.load(file)\n",
    "\n",
    "with open('salma_vectorizer.pkl', 'rb') as file:\n",
    "    vectorizer = pickle.load(file)\n",
    "\n",
    "with open('salma_scaler.pkl', 'rb') as file:\n",
    "    scaler = pickle.load(file)\n",
    "    "
   ]
  },
  {
   "cell_type": "code",
   "execution_count": 65,
   "id": "78bf6837-37a1-48aa-9fa1-4472457fbb6f",
   "metadata": {
    "tags": []
   },
   "outputs": [
    {
     "name": "stdout",
     "output_type": "stream",
     "text": [
      "Functions Loaded: {'clean_text': <function clean_text at 0x000001D7D98D4860>, 'collect_headlines': <function collect_headlines at 0x000001D7EEEBBB00>, 'fetch_spy_data': <function fetch_spy_data at 0x000001D7EEEE05E0>}\n"
     ]
    }
   ],
   "source": [
    "def load_functions(filename):\n",
    "    with open(filename, 'rb') as file:\n",
    "        return pickle.load(file)\n",
    "\n",
    "functions_dict = load_functions('salma_functions.pkl')\n",
    "print(\"Functions Loaded:\", functions_dict)\n",
    "\n",
    "clean_text_func = functions_dict['clean_text']\n",
    "collect_headlines_func = functions_dict['collect_headlines']\n",
    "fetch_spy_data_func = functions_dict['fetch_spy_data']\n"
   ]
  },
  {
   "cell_type": "code",
   "execution_count": 71,
   "id": "ff72ad1c-05e3-40b6-9626-6e322225967a",
   "metadata": {
    "tags": []
   },
   "outputs": [
    {
     "name": "stderr",
     "output_type": "stream",
     "text": [
      "[nltk_data] Downloading package punkt to nltk_data...\n",
      "[nltk_data]   Unzipping tokenizers\\punkt.zip.\n",
      "[nltk_data] Downloading package stopwords to nltk_data...\n",
      "[nltk_data]   Unzipping corpora\\stopwords.zip.\n",
      "[nltk_data] Downloading package punkt to nltk_data...\n",
      "[nltk_data]   Package punkt is already up-to-date!\n",
      "[nltk_data] Downloading package stopwords to nltk_data...\n",
      "[nltk_data]   Package stopwords is already up-to-date!\n",
      "[nltk_data] Downloading package punkt to nltk_data...\n",
      "[nltk_data]   Package punkt is already up-to-date!\n",
      "[nltk_data] Downloading package stopwords to nltk_data...\n",
      "[nltk_data]   Package stopwords is already up-to-date!\n",
      "[nltk_data] Downloading package punkt to nltk_data...\n",
      "[nltk_data]   Package punkt is already up-to-date!\n",
      "[nltk_data] Downloading package stopwords to nltk_data...\n",
      "[nltk_data]   Package stopwords is already up-to-date!\n",
      "[nltk_data] Downloading package punkt to nltk_data...\n",
      "[nltk_data]   Package punkt is already up-to-date!\n",
      "[nltk_data] Downloading package stopwords to nltk_data...\n",
      "[nltk_data]   Package stopwords is already up-to-date!\n",
      "[nltk_data] Downloading package punkt to nltk_data...\n",
      "[nltk_data]   Package punkt is already up-to-date!\n",
      "[nltk_data] Downloading package stopwords to nltk_data...\n",
      "[nltk_data]   Package stopwords is already up-to-date!\n",
      "[nltk_data] Downloading package punkt to nltk_data...\n",
      "[nltk_data]   Package punkt is already up-to-date!\n",
      "[nltk_data] Downloading package stopwords to nltk_data...\n",
      "[nltk_data]   Package stopwords is already up-to-date!\n",
      "[nltk_data] Downloading package punkt to nltk_data...\n",
      "[nltk_data]   Package punkt is already up-to-date!\n",
      "[nltk_data] Downloading package stopwords to nltk_data...\n",
      "[nltk_data]   Package stopwords is already up-to-date!\n",
      "[nltk_data] Downloading package punkt to nltk_data...\n",
      "[nltk_data]   Package punkt is already up-to-date!\n",
      "[nltk_data] Downloading package stopwords to nltk_data...\n",
      "[nltk_data]   Package stopwords is already up-to-date!\n",
      "[nltk_data] Downloading package punkt to nltk_data...\n",
      "[nltk_data]   Package punkt is already up-to-date!\n",
      "[nltk_data] Downloading package stopwords to nltk_data...\n",
      "[nltk_data]   Package stopwords is already up-to-date!\n"
     ]
    }
   ],
   "source": [
    "\n",
    "# Streamlit app layout\n",
    "st.title('Stock Movement Prediction')\n",
    "\n",
    "# User inputs\n",
    "# Convert to DataFrame\n",
    "df_headlines = pd.DataFrame(collect_headlines_func())\n",
    "# Apply clean_text function to the 'text' column\n",
    "df_headlines['cleaned_text'] = df_headlines['text'].apply(clean_text_func)\n"
   ]
  },
  {
   "cell_type": "code",
   "execution_count": 77,
   "id": "ceab8153-dc88-424d-ab66-fe3801206914",
   "metadata": {
    "tags": []
   },
   "outputs": [],
   "source": [
    "\n",
    "# Select the 'text' column\n",
    "text_input = df_headlines['cleaned_text']\n",
    "\n",
    "\n",
    "open_price_data = fetch_spy_data_func(datetime.datetime.now())\n"
   ]
  },
  {
   "cell_type": "code",
   "execution_count": 79,
   "id": "72f8bee4-0498-431f-9a62-b6bdbdc38891",
   "metadata": {
    "tags": []
   },
   "outputs": [],
   "source": [
    "if st.button('Predict'):\n",
    "    # Transform the input\n",
    "    text_tfidf = vectorizer.transform(text_input)\n",
    "     # Extract the 'Open' price from the fetched data\n",
    "    open_price_input = open_price_data[0]['Open']\n",
    "        \n",
    "        # Transform the opening price, reshape to 2D array\n",
    "    open_scaled = scaler.transform(np.array([[open_price_input]]))\n",
    "    \n",
    "    # Make predictions\n",
    "    text_prediction = log_reg.predict(text_tfidf)\n",
    "    open_prediction = xgb_model.predict(open_scaled)\n",
    "    \n",
    "    # Combine predictions\n",
    "    combined_prediction = (text_prediction[0] + open_prediction[0]) / 2\n",
    "    final_prediction = int(np.round(combined_prediction))\n",
    "    \n",
    "    st.write(f'Predicted Movement: {\"Up\" if final_prediction == 1 else \"Down\"}')"
   ]
  },
  {
   "cell_type": "code",
   "execution_count": 81,
   "id": "9eecb3ea-ef35-4509-aa64-438c53f04a02",
   "metadata": {
    "tags": []
   },
   "outputs": [
    {
     "data": {
      "text/plain": [
       "DeltaGenerator()"
      ]
     },
     "execution_count": 81,
     "metadata": {},
     "output_type": "execute_result"
    }
   ],
   "source": [
    "# Display the headlines\n",
    "st.write(\"### News Headlines\")\n",
    "st.dataframe(df_headlines[['text']])"
   ]
  },
  {
   "cell_type": "code",
   "execution_count": 83,
   "id": "ebbe8701-8e7b-4091-bfba-c19f20686642",
   "metadata": {
    "tags": []
   },
   "outputs": [
    {
     "data": {
      "text/html": [
       "<div>\n",
       "<style scoped>\n",
       "    .dataframe tbody tr th:only-of-type {\n",
       "        vertical-align: middle;\n",
       "    }\n",
       "\n",
       "    .dataframe tbody tr th {\n",
       "        vertical-align: top;\n",
       "    }\n",
       "\n",
       "    .dataframe thead th {\n",
       "        text-align: right;\n",
       "    }\n",
       "</style>\n",
       "<table border=\"1\" class=\"dataframe\">\n",
       "  <thead>\n",
       "    <tr style=\"text-align: right;\">\n",
       "      <th></th>\n",
       "      <th>text</th>\n",
       "    </tr>\n",
       "  </thead>\n",
       "  <tbody>\n",
       "    <tr>\n",
       "      <th>0</th>\n",
       "      <td>Fed survey shows lows in employment, worries a...</td>\n",
       "    </tr>\n",
       "    <tr>\n",
       "      <th>1</th>\n",
       "      <td>Goldman Sachs cuts odds of U.S. recession to 2...</td>\n",
       "    </tr>\n",
       "    <tr>\n",
       "      <th>2</th>\n",
       "      <td>Treasury yields waver ahead of Fed minutes and...</td>\n",
       "    </tr>\n",
       "    <tr>\n",
       "      <th>3</th>\n",
       "      <td>Trump, Harris inflation arguments are question...</td>\n",
       "    </tr>\n",
       "    <tr>\n",
       "      <th>4</th>\n",
       "      <td>With Harris economic plan, U.S. family and chi...</td>\n",
       "    </tr>\n",
       "    <tr>\n",
       "      <th>5</th>\n",
       "      <td>Big fast-casual restaurant chains are rapidly ...</td>\n",
       "    </tr>\n",
       "    <tr>\n",
       "      <th>6</th>\n",
       "      <td>How a week's worth of huge economic news will ...</td>\n",
       "    </tr>\n",
       "    <tr>\n",
       "      <th>7</th>\n",
       "      <td>Treasury yields fell as investors absorbed wee...</td>\n",
       "    </tr>\n",
       "    <tr>\n",
       "      <th>8</th>\n",
       "      <td>Here's the deflation breakdown for July 2024 —...</td>\n",
       "    </tr>\n",
       "    <tr>\n",
       "      <th>9</th>\n",
       "      <td>Consumer spending jumped in July as retail sal...</td>\n",
       "    </tr>\n",
       "  </tbody>\n",
       "</table>\n",
       "</div>"
      ],
      "text/plain": [
       "                                                text\n",
       "0  Fed survey shows lows in employment, worries a...\n",
       "1  Goldman Sachs cuts odds of U.S. recession to 2...\n",
       "2  Treasury yields waver ahead of Fed minutes and...\n",
       "3  Trump, Harris inflation arguments are question...\n",
       "4  With Harris economic plan, U.S. family and chi...\n",
       "5  Big fast-casual restaurant chains are rapidly ...\n",
       "6  How a week's worth of huge economic news will ...\n",
       "7  Treasury yields fell as investors absorbed wee...\n",
       "8  Here's the deflation breakdown for July 2024 —...\n",
       "9  Consumer spending jumped in July as retail sal..."
      ]
     },
     "execution_count": 83,
     "metadata": {},
     "output_type": "execute_result"
    }
   ],
   "source": [
    "df_headlines[['text']]"
   ]
  },
  {
   "cell_type": "code",
   "execution_count": 85,
   "id": "995419af-1374-4d8a-ab40-5e5396aeb0e7",
   "metadata": {
    "tags": []
   },
   "outputs": [
    {
     "data": {
      "text/plain": [
       "[{'Date': Timestamp('2024-08-19 00:00:00-0400', tz='America/New_York'),\n",
       "  'Open': 554.72998046875}]"
      ]
     },
     "execution_count": 85,
     "metadata": {},
     "output_type": "execute_result"
    }
   ],
   "source": [
    "open_price_data"
   ]
  },
  {
   "cell_type": "code",
   "execution_count": 91,
   "id": "9b889c63-166b-4172-a508-ce1d6da59f42",
   "metadata": {
    "tags": []
   },
   "outputs": [
    {
     "data": {
      "text/plain": [
       "Timestamp('2024-08-19 00:00:00-0400', tz='America/New_York')"
      ]
     },
     "execution_count": 91,
     "metadata": {},
     "output_type": "execute_result"
    }
   ],
   "source": [
    "open_price_data[0]['Date']"
   ]
  },
  {
   "cell_type": "code",
   "execution_count": null,
   "id": "3d07e2af-2067-4b2d-b144-b607e87be7de",
   "metadata": {},
   "outputs": [],
   "source": []
  }
 ],
 "metadata": {
  "kernelspec": {
   "display_name": "Python 3 (ipykernel)",
   "language": "python",
   "name": "python3"
  },
  "language_info": {
   "codemirror_mode": {
    "name": "ipython",
    "version": 3
   },
   "file_extension": ".py",
   "mimetype": "text/x-python",
   "name": "python",
   "nbconvert_exporter": "python",
   "pygments_lexer": "ipython3",
   "version": "3.11.4"
  }
 },
 "nbformat": 4,
 "nbformat_minor": 5
}
