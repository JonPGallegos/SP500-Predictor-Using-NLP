{
  "cells": [
    {
      "cell_type": "code",
      "execution_count": 5,
      "metadata": {
        "id": "hZ2XUHJcVsg1"
      },
      "outputs": [],
      "source": [
        "import pandas as pd"
      ]
    },
    {
      "cell_type": "code",
      "execution_count": 7,
      "metadata": {
        "colab": {
          "base_uri": "https://localhost:8080/"
        },
        "id": "KXT_lxRkV62W",
        "outputId": "85d29a70-ad0e-49bb-b6e0-351f5df35168"
      },
      "outputs": [
        {
          "name": "stdout",
          "output_type": "stream",
          "text": [
            "         date                                          headlines\n",
            "0  2020-07-17  Jim Cramer : A better way to invest in the Cov...\n",
            "1  2020-07-17    Cramer's lightning round : I would own Teradyne\n",
            "2  2020-07-17  Cramer's week ahead : Big week for earnings , ...\n",
            "3  2020-07-17  IQ Capital CEO Keith Bliss says tech and healt...\n",
            "4  2020-07-16  Wall Street delivered the 'kind of pullback I'...\n"
          ]
        }
      ],
      "source": [
        "file_path = '/content/combined_headlines_new.csv'\n",
        "\n",
        "data = pd.read_csv(file_path)\n",
        "print(data.head())"
      ]
    },
    {
      "cell_type": "code",
      "execution_count": 8,
      "metadata": {
        "id": "oUY0GliVWiw2"
      },
      "outputs": [],
      "source": [
        "def clean_text(text):\n",
        "  text = text.lower()\n",
        "  text = text.replace('\\n', ' ')\n",
        "  text = text.replace('[^a-zA-Z]', ' ')\n",
        "  return text"
      ]
    },
    {
      "cell_type": "code",
      "execution_count": 10,
      "metadata": {
        "colab": {
          "base_uri": "https://localhost:8080/"
        },
        "id": "UvQSGxdRW7r8",
        "outputId": "001fd1ec-088a-4625-93f3-8df0c20f89f0"
      },
      "outputs": [
        {
          "name": "stdout",
          "output_type": "stream",
          "text": [
            "         date                                          headlines  \\\n",
            "0  2020-07-17  Jim Cramer : A better way to invest in the Cov...   \n",
            "1  2020-07-17    Cramer's lightning round : I would own Teradyne   \n",
            "2  2020-07-17  Cramer's week ahead : Big week for earnings , ...   \n",
            "3  2020-07-17  IQ Capital CEO Keith Bliss says tech and healt...   \n",
            "4  2020-07-16  Wall Street delivered the 'kind of pullback I'...   \n",
            "\n",
            "                                   cleaned_headlines  \n",
            "0  jim cramer : a better way to invest in the cov...  \n",
            "1    cramer's lightning round : i would own teradyne  \n",
            "2  cramer's week ahead : big week for earnings , ...  \n",
            "3  iq capital ceo keith bliss says tech and healt...  \n",
            "4  wall street delivered the 'kind of pullback i'...  \n"
          ]
        }
      ],
      "source": [
        "data['cleaned_headlines'] = data['headlines'].apply(clean_text)\n",
        "print(data.head())"
      ]
    },
    {
      "cell_type": "code",
      "execution_count": 11,
      "metadata": {
        "id": "y8X6e82ZXEHN"
      },
      "outputs": [],
      "source": [
        "import yfinance as yf"
      ]
    },
    {
      "cell_type": "code",
      "execution_count": 19,
      "metadata": {
        "colab": {
          "base_uri": "https://localhost:8080/"
        },
        "id": "FsMNPWf4XY3m",
        "outputId": "2e9e77f9-4a4e-4085-e62d-f275d86b819b"
      },
      "outputs": [
        {
          "name": "stderr",
          "output_type": "stream",
          "text": [
            "\r[*********************100%%**********************]  1 of 1 completed\n"
          ]
        }
      ],
      "source": [
        "spy_data = yf.download('SPY', start= '2020-01-01', end='2023-01-01')\n",
        "spy_data.reset_index(inplace=True)"
      ]
    },
    {
      "cell_type": "code",
      "execution_count": 20,
      "metadata": {
        "colab": {
          "base_uri": "https://localhost:8080/"
        },
        "id": "5wELS2uPXoNs",
        "outputId": "bc74e521-f893-4bae-d341-793ad17c10e4"
      },
      "outputs": [
        {
          "name": "stderr",
          "output_type": "stream",
          "text": [
            "<ipython-input-20-714537a9927d>:2: SettingWithCopyWarning: \n",
            "A value is trying to be set on a copy of a slice from a DataFrame\n",
            "\n",
            "See the caveats in the documentation: https://pandas.pydata.org/pandas-docs/stable/user_guide/indexing.html#returning-a-view-versus-a-copy\n",
            "  spy_data.rename(columns= {'Adj Close': 'spy_price'}, inplace=True)\n"
          ]
        }
      ],
      "source": [
        "spy_data = spy_data[['Date', 'Adj Close']]\n",
        "spy_data.rename(columns= {'Adj Close': 'spy_price'}, inplace=True)"
      ]
    },
    {
      "cell_type": "code",
      "execution_count": 22,
      "metadata": {
        "id": "WyYCYLIpX6v7"
      },
      "outputs": [],
      "source": [
        "data['Date'] = pd.to_datetime(data['date'])\n",
        "merged_data = pd.merge(data, spy_data, how='left', left_on= 'Date', right_on='Date')"
      ]
    },
    {
      "cell_type": "code",
      "execution_count": 24,
      "metadata": {
        "colab": {
          "base_uri": "https://localhost:8080/"
        },
        "id": "nua9uS4NYXd0",
        "outputId": "ae6cb042-6bdd-4f96-b19f-982095ec6d21"
      },
      "outputs": [
        {
          "name": "stdout",
          "output_type": "stream",
          "text": [
            "         date                                          headlines  \\\n",
            "0  2020-07-17  Jim Cramer : A better way to invest in the Cov...   \n",
            "1  2020-07-17    Cramer's lightning round : I would own Teradyne   \n",
            "2  2020-07-17  Cramer's week ahead : Big week for earnings , ...   \n",
            "3  2020-07-17  IQ Capital CEO Keith Bliss says tech and healt...   \n",
            "4  2020-07-16  Wall Street delivered the 'kind of pullback I'...   \n",
            "\n",
            "                                   cleaned_headlines       Date   spy_price  \n",
            "0  jim cramer : a better way to invest in the cov... 2020-07-17  303.290375  \n",
            "1    cramer's lightning round : i would own teradyne 2020-07-17  303.290375  \n",
            "2  cramer's week ahead : big week for earnings , ... 2020-07-17  303.290375  \n",
            "3  iq capital ceo keith bliss says tech and healt... 2020-07-17  303.290375  \n",
            "4  wall street delivered the 'kind of pullback i'... 2020-07-16  302.413696  \n"
          ]
        }
      ],
      "source": [
        "print(merged_data.head())"
      ]
    },
    {
      "cell_type": "code",
      "execution_count": null,
      "metadata": {
        "id": "Y1dMbsCha9-G"
      },
      "outputs": [],
      "source": []
    }
  ],
  "metadata": {
    "colab": {
      "provenance": []
    },
    "kernelspec": {
      "display_name": "Python 3",
      "name": "python3"
    },
    "language_info": {
      "name": "python"
    }
  },
  "nbformat": 4,
  "nbformat_minor": 0
}
