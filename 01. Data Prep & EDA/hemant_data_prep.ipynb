{
 "cells": [
  {
   "cell_type": "markdown",
   "id": "d28c581c-0f77-4042-ae02-c44e29903097",
   "metadata": {},
   "source": [
    "### Install Libraries"
   ]
  },
  {
   "cell_type": "code",
   "execution_count": 1,
   "id": "b1204270-5030-470b-9f63-9f36d7df11dc",
   "metadata": {
    "scrolled": true
   },
   "outputs": [],
   "source": [
    "#%pip install yfinance"
   ]
  },
  {
   "cell_type": "markdown",
   "id": "1013b3ec-bd75-4d46-864d-df9035cc650e",
   "metadata": {},
   "source": [
    "### Import Libraries"
   ]
  },
  {
   "cell_type": "code",
   "execution_count": 2,
   "id": "a80318e9-bf66-45fe-880c-85e65fb68983",
   "metadata": {},
   "outputs": [],
   "source": [
    "import pandas as pd\n",
    "import numpy as np\n",
    "import yfinance as yf\n",
    "import matplotlib.pyplot as plt\n",
    "import seaborn as sns\n",
    "from datetime import datetime, timedelta"
   ]
  },
  {
   "cell_type": "markdown",
   "id": "7ad082f0-0da0-4ddf-bb17-250693f1f070",
   "metadata": {},
   "source": [
    "### Load Headlines data"
   ]
  },
  {
   "cell_type": "code",
   "execution_count": 3,
   "id": "09f7f81e-50d9-45d8-a4e5-fb3e87e87680",
   "metadata": {},
   "outputs": [
    {
     "name": "stdout",
     "output_type": "stream",
     "text": [
      "date         0\n",
      "headlines    0\n",
      "dtype: int64\n"
     ]
    }
   ],
   "source": [
    "# Load the CSV file from the local folder\n",
    "headlines_df = pd.read_csv('../data/combined_headlines_new.csv')\n",
    "\n",
    "# Check null values in dataset\n",
    "print(headlines_df.isnull().sum())\n",
    "\n",
    "# Rename column names to avoid issues in merging and filtering\n",
    "headlines_df.columns = ['Date', 'Headlines']\n",
    "\n",
    "# Convert 'Date' column to datetime type \n",
    "headlines_df['Date'] = pd.to_datetime(headlines_df['Date'],errors='coerce')"
   ]
  },
  {
   "cell_type": "code",
   "execution_count": 4,
   "id": "6a1be927-948a-4e25-8905-e8ba95d68996",
   "metadata": {},
   "outputs": [
    {
     "data": {
      "text/html": [
       "<div>\n",
       "<style scoped>\n",
       "    .dataframe tbody tr th:only-of-type {\n",
       "        vertical-align: middle;\n",
       "    }\n",
       "\n",
       "    .dataframe tbody tr th {\n",
       "        vertical-align: top;\n",
       "    }\n",
       "\n",
       "    .dataframe thead th {\n",
       "        text-align: right;\n",
       "    }\n",
       "</style>\n",
       "<table border=\"1\" class=\"dataframe\">\n",
       "  <thead>\n",
       "    <tr style=\"text-align: right;\">\n",
       "      <th></th>\n",
       "      <th>Date</th>\n",
       "      <th>Headlines</th>\n",
       "    </tr>\n",
       "  </thead>\n",
       "  <tbody>\n",
       "    <tr>\n",
       "      <th>0</th>\n",
       "      <td>2020-07-17</td>\n",
       "      <td>Jim Cramer : A better way to invest in the Cov...</td>\n",
       "    </tr>\n",
       "    <tr>\n",
       "      <th>1</th>\n",
       "      <td>2020-07-17</td>\n",
       "      <td>Cramer's lightning round : I would own Teradyne</td>\n",
       "    </tr>\n",
       "    <tr>\n",
       "      <th>2</th>\n",
       "      <td>2020-07-17</td>\n",
       "      <td>Cramer's week ahead : Big week for earnings , ...</td>\n",
       "    </tr>\n",
       "    <tr>\n",
       "      <th>3</th>\n",
       "      <td>2020-07-17</td>\n",
       "      <td>IQ Capital CEO Keith Bliss says tech and healt...</td>\n",
       "    </tr>\n",
       "    <tr>\n",
       "      <th>4</th>\n",
       "      <td>2020-07-16</td>\n",
       "      <td>Wall Street delivered the 'kind of pullback I'...</td>\n",
       "    </tr>\n",
       "  </tbody>\n",
       "</table>\n",
       "</div>"
      ],
      "text/plain": [
       "        Date                                          Headlines\n",
       "0 2020-07-17  Jim Cramer : A better way to invest in the Cov...\n",
       "1 2020-07-17    Cramer's lightning round : I would own Teradyne\n",
       "2 2020-07-17  Cramer's week ahead : Big week for earnings , ...\n",
       "3 2020-07-17  IQ Capital CEO Keith Bliss says tech and healt...\n",
       "4 2020-07-16  Wall Street delivered the 'kind of pullback I'..."
      ]
     },
     "execution_count": 4,
     "metadata": {},
     "output_type": "execute_result"
    }
   ],
   "source": [
    "headlines_df.head()"
   ]
  },
  {
   "cell_type": "code",
   "execution_count": 5,
   "id": "7efe842e-7a4b-4612-acdc-bff2b2084f58",
   "metadata": {},
   "outputs": [
    {
     "name": "stdout",
     "output_type": "stream",
     "text": [
      "2017-12-17 2020-07-25\n"
     ]
    }
   ],
   "source": [
    "# Sort the dataset on Date column and reset the index to avoid any new column\n",
    "headlines_df.sort_values(by='Date', inplace=True)\n",
    "headlines_df = headlines_df.reset_index(drop=True)\n",
    "\n",
    "# Calculate min and max date of Date column \n",
    "min_date = headlines_df['Date'].min().date()\n",
    "max_date = headlines_df['Date'].max().date() + pd.Timedelta(days=7)\n",
    "\n",
    "print(min_date, max_date)"
   ]
  },
  {
   "cell_type": "markdown",
   "id": "188a80f7-f2ef-4ec4-8cef-4083415aafb7",
   "metadata": {},
   "source": [
    "### Load SPY data"
   ]
  },
  {
   "cell_type": "code",
   "execution_count": 6,
   "id": "d664f674-08cf-4149-927a-0229c5d68b0e",
   "metadata": {},
   "outputs": [],
   "source": [
    "# Load SPY historical data from yfinace using date range of headlines dataset\n",
    "sp500_df = yf.Ticker(\"SPY\").history(start= min_date, end= max_date)\n",
    "sp500_df.reset_index(inplace=True)\n",
    "\n",
    "# Convert Date column  to datetime and normalize dates to remove time part\n",
    "sp500_df['Date'] = pd.to_datetime(sp500_df['Date'], errors='coerce')\n",
    "sp500_df['Date'] = sp500_df['Date'].dt.normalize()\n",
    "\n",
    "# Ensure there are no time zones\n",
    "sp500_df['Date'] = sp500_df['Date'].dt.tz_localize(None)\n",
    "\n"
   ]
  },
  {
   "cell_type": "code",
   "execution_count": 7,
   "id": "030316b3-e8de-46c2-902a-7d94bc3283de",
   "metadata": {},
   "outputs": [
    {
     "data": {
      "text/html": [
       "<div>\n",
       "<style scoped>\n",
       "    .dataframe tbody tr th:only-of-type {\n",
       "        vertical-align: middle;\n",
       "    }\n",
       "\n",
       "    .dataframe tbody tr th {\n",
       "        vertical-align: top;\n",
       "    }\n",
       "\n",
       "    .dataframe thead th {\n",
       "        text-align: right;\n",
       "    }\n",
       "</style>\n",
       "<table border=\"1\" class=\"dataframe\">\n",
       "  <thead>\n",
       "    <tr style=\"text-align: right;\">\n",
       "      <th></th>\n",
       "      <th>Date</th>\n",
       "      <th>Open</th>\n",
       "      <th>High</th>\n",
       "      <th>Low</th>\n",
       "      <th>Close</th>\n",
       "      <th>Volume</th>\n",
       "      <th>Dividends</th>\n",
       "      <th>Stock Splits</th>\n",
       "      <th>Capital Gains</th>\n",
       "    </tr>\n",
       "  </thead>\n",
       "  <tbody>\n",
       "    <tr>\n",
       "      <th>0</th>\n",
       "      <td>2017-12-18</td>\n",
       "      <td>240.938034</td>\n",
       "      <td>241.387378</td>\n",
       "      <td>240.830196</td>\n",
       "      <td>241.027908</td>\n",
       "      <td>83653600</td>\n",
       "      <td>0.0</td>\n",
       "      <td>0.0</td>\n",
       "      <td>0.0</td>\n",
       "    </tr>\n",
       "    <tr>\n",
       "      <th>1</th>\n",
       "      <td>2017-12-19</td>\n",
       "      <td>241.279512</td>\n",
       "      <td>241.324435</td>\n",
       "      <td>240.030324</td>\n",
       "      <td>240.102234</td>\n",
       "      <td>82382900</td>\n",
       "      <td>0.0</td>\n",
       "      <td>0.0</td>\n",
       "      <td>0.0</td>\n",
       "    </tr>\n",
       "    <tr>\n",
       "      <th>2</th>\n",
       "      <td>2017-12-20</td>\n",
       "      <td>241.090788</td>\n",
       "      <td>241.144707</td>\n",
       "      <td>239.670875</td>\n",
       "      <td>239.976425</td>\n",
       "      <td>76751500</td>\n",
       "      <td>0.0</td>\n",
       "      <td>0.0</td>\n",
       "      <td>0.0</td>\n",
       "    </tr>\n",
       "    <tr>\n",
       "      <th>3</th>\n",
       "      <td>2017-12-21</td>\n",
       "      <td>240.614542</td>\n",
       "      <td>241.198711</td>\n",
       "      <td>240.219118</td>\n",
       "      <td>240.470749</td>\n",
       "      <td>67032300</td>\n",
       "      <td>0.0</td>\n",
       "      <td>0.0</td>\n",
       "      <td>0.0</td>\n",
       "    </tr>\n",
       "    <tr>\n",
       "      <th>4</th>\n",
       "      <td>2017-12-22</td>\n",
       "      <td>240.488670</td>\n",
       "      <td>240.524625</td>\n",
       "      <td>239.859578</td>\n",
       "      <td>240.407791</td>\n",
       "      <td>78720900</td>\n",
       "      <td>0.0</td>\n",
       "      <td>0.0</td>\n",
       "      <td>0.0</td>\n",
       "    </tr>\n",
       "  </tbody>\n",
       "</table>\n",
       "</div>"
      ],
      "text/plain": [
       "        Date        Open        High         Low       Close    Volume  \\\n",
       "0 2017-12-18  240.938034  241.387378  240.830196  241.027908  83653600   \n",
       "1 2017-12-19  241.279512  241.324435  240.030324  240.102234  82382900   \n",
       "2 2017-12-20  241.090788  241.144707  239.670875  239.976425  76751500   \n",
       "3 2017-12-21  240.614542  241.198711  240.219118  240.470749  67032300   \n",
       "4 2017-12-22  240.488670  240.524625  239.859578  240.407791  78720900   \n",
       "\n",
       "   Dividends  Stock Splits  Capital Gains  \n",
       "0        0.0           0.0            0.0  \n",
       "1        0.0           0.0            0.0  \n",
       "2        0.0           0.0            0.0  \n",
       "3        0.0           0.0            0.0  \n",
       "4        0.0           0.0            0.0  "
      ]
     },
     "execution_count": 7,
     "metadata": {},
     "output_type": "execute_result"
    }
   ],
   "source": [
    "sp500_df.head()"
   ]
  },
  {
   "cell_type": "markdown",
   "id": "890907ad-d272-47ab-8377-0b8090aedcf8",
   "metadata": {},
   "source": [
    "### Create Label column on sp500 dataframe"
   ]
  },
  {
   "cell_type": "code",
   "execution_count": 8,
   "id": "06587f16-7a40-4442-b0fe-c782129dd272",
   "metadata": {},
   "outputs": [],
   "source": [
    "# Calculate the diffence in the open and closing stock price for given day and add this value to a new column Variation in SPY dataset\n",
    "sp500_df['Variation'] = sp500_df['Close'].diff()\n",
    "\n",
    "# Create a feature label based on the diffenrent values of Variation column. \n",
    "      # Values : Increase for > 0, Decrease for <0 and No Change for =0\n",
    "sp500_df['Label'] = np.where(sp500_df['Variation'] > 0, 'Increase', np.where(sp500_df['Variation'] < 0, 'Decrease', 'No Change'))"
   ]
  },
  {
   "cell_type": "code",
   "execution_count": 9,
   "id": "b6b58846-e6f3-44a3-baeb-bfec776acda7",
   "metadata": {},
   "outputs": [
    {
     "data": {
      "text/html": [
       "<div>\n",
       "<style scoped>\n",
       "    .dataframe tbody tr th:only-of-type {\n",
       "        vertical-align: middle;\n",
       "    }\n",
       "\n",
       "    .dataframe tbody tr th {\n",
       "        vertical-align: top;\n",
       "    }\n",
       "\n",
       "    .dataframe thead th {\n",
       "        text-align: right;\n",
       "    }\n",
       "</style>\n",
       "<table border=\"1\" class=\"dataframe\">\n",
       "  <thead>\n",
       "    <tr style=\"text-align: right;\">\n",
       "      <th></th>\n",
       "      <th>Date</th>\n",
       "      <th>Open</th>\n",
       "      <th>High</th>\n",
       "      <th>Low</th>\n",
       "      <th>Close</th>\n",
       "      <th>Volume</th>\n",
       "      <th>Dividends</th>\n",
       "      <th>Stock Splits</th>\n",
       "      <th>Capital Gains</th>\n",
       "      <th>Variation</th>\n",
       "      <th>Label</th>\n",
       "    </tr>\n",
       "  </thead>\n",
       "  <tbody>\n",
       "    <tr>\n",
       "      <th>0</th>\n",
       "      <td>2017-12-18</td>\n",
       "      <td>240.938034</td>\n",
       "      <td>241.387378</td>\n",
       "      <td>240.830196</td>\n",
       "      <td>241.027908</td>\n",
       "      <td>83653600</td>\n",
       "      <td>0.0</td>\n",
       "      <td>0.0</td>\n",
       "      <td>0.0</td>\n",
       "      <td>NaN</td>\n",
       "      <td>No Change</td>\n",
       "    </tr>\n",
       "    <tr>\n",
       "      <th>1</th>\n",
       "      <td>2017-12-19</td>\n",
       "      <td>241.279512</td>\n",
       "      <td>241.324435</td>\n",
       "      <td>240.030324</td>\n",
       "      <td>240.102234</td>\n",
       "      <td>82382900</td>\n",
       "      <td>0.0</td>\n",
       "      <td>0.0</td>\n",
       "      <td>0.0</td>\n",
       "      <td>-0.925674</td>\n",
       "      <td>Decrease</td>\n",
       "    </tr>\n",
       "    <tr>\n",
       "      <th>2</th>\n",
       "      <td>2017-12-20</td>\n",
       "      <td>241.090788</td>\n",
       "      <td>241.144707</td>\n",
       "      <td>239.670875</td>\n",
       "      <td>239.976425</td>\n",
       "      <td>76751500</td>\n",
       "      <td>0.0</td>\n",
       "      <td>0.0</td>\n",
       "      <td>0.0</td>\n",
       "      <td>-0.125809</td>\n",
       "      <td>Decrease</td>\n",
       "    </tr>\n",
       "    <tr>\n",
       "      <th>3</th>\n",
       "      <td>2017-12-21</td>\n",
       "      <td>240.614542</td>\n",
       "      <td>241.198711</td>\n",
       "      <td>240.219118</td>\n",
       "      <td>240.470749</td>\n",
       "      <td>67032300</td>\n",
       "      <td>0.0</td>\n",
       "      <td>0.0</td>\n",
       "      <td>0.0</td>\n",
       "      <td>0.494324</td>\n",
       "      <td>Increase</td>\n",
       "    </tr>\n",
       "    <tr>\n",
       "      <th>4</th>\n",
       "      <td>2017-12-22</td>\n",
       "      <td>240.488670</td>\n",
       "      <td>240.524625</td>\n",
       "      <td>239.859578</td>\n",
       "      <td>240.407791</td>\n",
       "      <td>78720900</td>\n",
       "      <td>0.0</td>\n",
       "      <td>0.0</td>\n",
       "      <td>0.0</td>\n",
       "      <td>-0.062958</td>\n",
       "      <td>Decrease</td>\n",
       "    </tr>\n",
       "  </tbody>\n",
       "</table>\n",
       "</div>"
      ],
      "text/plain": [
       "        Date        Open        High         Low       Close    Volume  \\\n",
       "0 2017-12-18  240.938034  241.387378  240.830196  241.027908  83653600   \n",
       "1 2017-12-19  241.279512  241.324435  240.030324  240.102234  82382900   \n",
       "2 2017-12-20  241.090788  241.144707  239.670875  239.976425  76751500   \n",
       "3 2017-12-21  240.614542  241.198711  240.219118  240.470749  67032300   \n",
       "4 2017-12-22  240.488670  240.524625  239.859578  240.407791  78720900   \n",
       "\n",
       "   Dividends  Stock Splits  Capital Gains  Variation      Label  \n",
       "0        0.0           0.0            0.0        NaN  No Change  \n",
       "1        0.0           0.0            0.0  -0.925674   Decrease  \n",
       "2        0.0           0.0            0.0  -0.125809   Decrease  \n",
       "3        0.0           0.0            0.0   0.494324   Increase  \n",
       "4        0.0           0.0            0.0  -0.062958   Decrease  "
      ]
     },
     "execution_count": 9,
     "metadata": {},
     "output_type": "execute_result"
    }
   ],
   "source": [
    "sp500_df.head()"
   ]
  },
  {
   "cell_type": "markdown",
   "id": "665fdddb-cd7a-4b65-b086-8a05e9f336ce",
   "metadata": {},
   "source": [
    "### Final dataset"
   ]
  },
  {
   "cell_type": "code",
   "execution_count": 10,
   "id": "9ab2ebd1-44c4-40f5-baa5-488c1d857957",
   "metadata": {},
   "outputs": [
    {
     "name": "stdout",
     "output_type": "stream",
     "text": [
      "<class 'pandas.core.frame.DataFrame'>\n",
      "RangeIndex: 654 entries, 0 to 653\n",
      "Data columns (total 11 columns):\n",
      " #   Column         Non-Null Count  Dtype         \n",
      "---  ------         --------------  -----         \n",
      " 0   Date           654 non-null    datetime64[ns]\n",
      " 1   Open           654 non-null    float64       \n",
      " 2   High           654 non-null    float64       \n",
      " 3   Low            654 non-null    float64       \n",
      " 4   Close          654 non-null    float64       \n",
      " 5   Volume         654 non-null    int64         \n",
      " 6   Dividends      654 non-null    float64       \n",
      " 7   Stock Splits   654 non-null    float64       \n",
      " 8   Capital Gains  654 non-null    float64       \n",
      " 9   Variation      653 non-null    float64       \n",
      " 10  Label          654 non-null    object        \n",
      "dtypes: datetime64[ns](1), float64(8), int64(1), object(1)\n",
      "memory usage: 56.3+ KB\n"
     ]
    }
   ],
   "source": [
    "sp500_df.info()"
   ]
  },
  {
   "cell_type": "code",
   "execution_count": 11,
   "id": "327f829f-c53d-4a5b-a144-262ef4b4d694",
   "metadata": {},
   "outputs": [],
   "source": [
    "# Merge both datasets\n",
    "merged_df = pd.merge(headlines_df, sp500_df, on='Date', how='inner')"
   ]
  },
  {
   "cell_type": "code",
   "execution_count": 12,
   "id": "e2f7ec26-8c83-4b3c-897c-915830bddf1b",
   "metadata": {},
   "outputs": [
    {
     "name": "stdout",
     "output_type": "stream",
     "text": [
      "            Date                                          Headlines  \\\n",
      "0     2017-12-18  Universal basic income is no panacea for us – ...   \n",
      "1     2017-12-18  Brexit will usher in a dark chapter for new Br...   \n",
      "2     2017-12-18  Adani scraps USD 2bn deal to outsource Carmich...   \n",
      "3     2017-12-18  Ryanair pilots suspend one-day strike in week ...   \n",
      "4     2017-12-18            Curbs on capitalism in the 21st century   \n",
      "...          ...                                                ...   \n",
      "47260 2020-07-17  BA begins to carry out its 'fire and rehire' t...   \n",
      "47261 2020-07-17  I flew the jumbo for 10 years and never got ov...   \n",
      "47262 2020-07-17  Business live Markets hope for progress over E...   \n",
      "47263 2020-07-17  Silicon Valley has deep pockets for African st...   \n",
      "47264 2020-07-17  On eve of bankruptcy , U . S . firms shower ex...   \n",
      "\n",
      "             Open        High         Low       Close    Volume  Dividends  \\\n",
      "0      240.938034  241.387378  240.830196  241.027908  83653600        0.0   \n",
      "1      240.938034  241.387378  240.830196  241.027908  83653600        0.0   \n",
      "2      240.938034  241.387378  240.830196  241.027908  83653600        0.0   \n",
      "3      240.938034  241.387378  240.830196  241.027908  83653600        0.0   \n",
      "4      240.938034  241.387378  240.830196  241.027908  83653600        0.0   \n",
      "...           ...         ...         ...         ...       ...        ...   \n",
      "47260  303.441213  304.091689  301.423788  303.290375  62774900        0.0   \n",
      "47261  303.441213  304.091689  301.423788  303.290375  62774900        0.0   \n",
      "47262  303.441213  304.091689  301.423788  303.290375  62774900        0.0   \n",
      "47263  303.441213  304.091689  301.423788  303.290375  62774900        0.0   \n",
      "47264  303.441213  304.091689  301.423788  303.290375  62774900        0.0   \n",
      "\n",
      "       Stock Splits  Capital Gains  Variation      Label  \n",
      "0               0.0            0.0        NaN  No Change  \n",
      "1               0.0            0.0        NaN  No Change  \n",
      "2               0.0            0.0        NaN  No Change  \n",
      "3               0.0            0.0        NaN  No Change  \n",
      "4               0.0            0.0        NaN  No Change  \n",
      "...             ...            ...        ...        ...  \n",
      "47260           0.0            0.0   0.876709   Increase  \n",
      "47261           0.0            0.0   0.876709   Increase  \n",
      "47262           0.0            0.0   0.876709   Increase  \n",
      "47263           0.0            0.0   0.876709   Increase  \n",
      "47264           0.0            0.0   0.876709   Increase  \n",
      "\n",
      "[47265 rows x 12 columns]\n"
     ]
    }
   ],
   "source": [
    "# Print merged data\n",
    "print(merged_df)"
   ]
  }
 ],
 "metadata": {
  "kernelspec": {
   "display_name": "Python 3 (ipykernel)",
   "language": "python",
   "name": "python3"
  },
  "language_info": {
   "codemirror_mode": {
    "name": "ipython",
    "version": 3
   },
   "file_extension": ".py",
   "mimetype": "text/x-python",
   "name": "python",
   "nbconvert_exporter": "python",
   "pygments_lexer": "ipython3",
   "version": "3.11.7"
  }
 },
 "nbformat": 4,
 "nbformat_minor": 5
}
